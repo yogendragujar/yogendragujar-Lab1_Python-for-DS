{
 "cells": [
  {
   "cell_type": "markdown",
   "id": "2c8f47d3",
   "metadata": {
    "id": "2c8f47d3"
   },
   "source": [
    "# Lab Session"
   ]
  },
  {
   "cell_type": "markdown",
   "id": "f637aba6",
   "metadata": {
    "id": "f637aba6"
   },
   "source": [
    "## <font color='blue'> Table Of Contents </font>\n",
    "- Problem Statement \n",
    "- Load required libraries\n",
    "- Connect to DB using mysql-connector-python package\n",
    "- Create database named `e_commerce`\n",
    "- Create tables and insert data into tables as specified in the question\n",
    "- Read all the questions and write sql queries to meet the objective "
   ]
  },
  {
   "cell_type": "markdown",
   "id": "1073fc90",
   "metadata": {
    "id": "1073fc90"
   },
   "source": [
    "## <font color='blue'> Problem Statement </font>\n",
    "###  An E-commerce website manages its data in the form of various tables.\n",
    "You need to create a Database called `e_commerce` and various tables in it. The tables needed and attributes which need to be in every table are given before hand. All you have to do is create tables with data in it and answer some of the questions that follows."
   ]
  },
  {
   "cell_type": "markdown",
   "id": "48787355",
   "metadata": {
    "id": "48787355"
   },
   "source": [
    "### e_commerce Schema:"
   ]
  },
  {
   "cell_type": "markdown",
   "id": "78938fbc",
   "metadata": {
    "id": "78938fbc"
   },
   "source": [
    "![e_commerce%20_schema.png](attachment:e_commerce%20_schema.png)"
   ]
  },
  {
   "cell_type": "markdown",
   "id": "d9abe6c7",
   "metadata": {
    "id": "d9abe6c7"
   },
   "source": [
    "### Load Required Libraries"
   ]
  },
  {
   "cell_type": "code",
   "execution_count": 58,
   "id": "0178d08e",
   "metadata": {
    "id": "0178d08e"
   },
   "outputs": [],
   "source": [
    "import mysql.connector\n",
    "import pandas as pd"
   ]
  },
  {
   "cell_type": "markdown",
   "id": "d7d7fd5c",
   "metadata": {
    "id": "d7d7fd5c"
   },
   "source": [
    "### Connect to DB using Mysql-connector-python package"
   ]
  },
  {
   "cell_type": "code",
   "execution_count": null,
   "id": "ef7bef72",
   "metadata": {
    "id": "ef7bef72"
   },
   "outputs": [],
   "source": [
    "connection = mysql.connector.connect(host = \"localhost\",\n",
    "                                    user = \"root\",\n",
    "                                    passwd= \"Y0gendr@\")\n",
    "cursorObject = connection.cursor()\n",
    "connection.close()"
   ]
  },
  {
   "cell_type": "markdown",
   "id": "9d55e510",
   "metadata": {
    "id": "9d55e510"
   },
   "source": [
    "### You are required to create a database named 'e_commerce'"
   ]
  },
  {
   "cell_type": "code",
   "execution_count": null,
   "id": "42a154f2",
   "metadata": {
    "id": "42a154f2"
   },
   "outputs": [],
   "source": [
    "connection = mysql.connector.connect(host = \"localhost\",\n",
    "                                    user = \"root\",\n",
    "                                    passwd= \"Y0gendr@\")\n",
    "cursorObject = connection.cursor()\n",
    "cursorObject.execute(\"Create DATABASE e_commerce\")\n",
    "connection.close()\n"
   ]
  },
  {
   "cell_type": "markdown",
   "id": "480dc986",
   "metadata": {
    "id": "480dc986"
   },
   "source": [
    "### Q1. Create tables for supplier, customer, category, product, productDetails, order, rating to store the data for the E-commerce with the schema definition given below.\n",
    "\n",
    "\n",
    "- **`supplier`**(SUPP_ID int primary key, SUPP_NAME varchar(50), SUPP_CITY varchar(50), SUPP_PHONE varchar(10))\n",
    "\n",
    "\n",
    "- **`customer`** (CUS_ID INT NOT NULL, CUS_NAME VARCHAR(20) NULL DEFAULT NULL, CUS_PHONE VARCHAR(10), CUS_CITY varchar(30) ,CUS_GENDER CHAR,PRIMARY KEY (CUS_ID))\n",
    "\n",
    "\n",
    "- **`category`** (CAT_ID INT NOT NULL, CAT_NAME VARCHAR(20) NULL DEFAULT NULL,PRIMARY KEY (CAT_ID))\n",
    "\n",
    "\n",
    "- **`product`** (PRO_ID INT NOT NULL, PRO_NAME VARCHAR(20) NULL DEFAULT NULL, PRO_DESC VARCHAR(60) NULL DEFAULT NULL, CAT_ID INT NOT NULL,PRIMARY KEY (PRO_ID),FOREIGN KEY (CAT_ID) REFERENCES CATEGORY (CAT_ID))\n",
    "\n",
    "\n",
    "- **`product_details`** (PROD_ID INT NOT NULL, PRO_ID INT NOT NULL, SUPP_ID INT NOT NULL, PROD_PRICE INT NOT NULL,\n",
    "  PRIMARY KEY (PROD_ID),FOREIGN KEY (PRO_ID) REFERENCES PRODUCT (PRO_ID), FOREIGN KEY (SUPP_ID) REFERENCES SUPPLIER(SUPP_ID))\n",
    "  \n",
    "  \n",
    "- **`order`** (ORD_ID INT NOT NULL, ORD_AMOUNT INT NOT NULL, ORD_DATE DATE, CUS_ID INT NOT NULL, PROD_ID INT NOT NULL,PRIMARY KEY (ORD_ID),FOREIGN KEY (CUS_ID) REFERENCES CUSTOMER(CUS_ID),FOREIGN KEY (PROD_ID) REFERENCES PRODUCT_DETAILS(PROD_ID))\n",
    "\n",
    "\n",
    "- **`rating`** (RAT_ID INT NOT NULL, CUS_ID INT NOT NULL, SUPP_ID INT NOT NULL, RAT_RATSTARS INT NOT NULL,PRIMARY KEY (RAT_ID),FOREIGN KEY (SUPP_ID) REFERENCES SUPPLIER (SUPP_ID),FOREIGN KEY (CUS_ID) REFERENCES CUSTOMER(CUS_ID))"
   ]
  },
  {
   "cell_type": "code",
   "execution_count": 59,
   "id": "967b718f",
   "metadata": {
    "id": "967b718f"
   },
   "outputs": [],
   "source": [
    "connection = mysql.connector.connect(host = \"localhost\",\n",
    "                                    user = \"root\",\n",
    "                                    passwd= \"Y0gendr@\",\n",
    "                                    database=\"e_commerce\")\n",
    "\n",
    "cursorObject = connection.cursor()\n"
   ]
  },
  {
   "cell_type": "code",
   "execution_count": null,
   "id": "99e0548c",
   "metadata": {},
   "outputs": [],
   "source": [
    "#cursorObject.execute(\"DROP TABLE IF EXISTS supplier\")\n",
    "supplier = \"\"\"Create TABLE supplier(\n",
    "            SUPP_ID int primary key,\n",
    "            SUPP_NAME varchar(50),\n",
    "            SUPP_CITY varchar(50),\n",
    "            SUPP_PHONE varchar(10))\n",
    "            \"\"\"\n",
    "cursorObject.execute(supplier)"
   ]
  },
  {
   "cell_type": "code",
   "execution_count": null,
   "id": "8f143da4",
   "metadata": {},
   "outputs": [],
   "source": [
    "customer = \"\"\"create Table customer(\n",
    "            CUS_ID INT NOT NULL,\n",
    "            CUS_NAME VARCHAR(20) NULL DEFAULT NULL,\n",
    "            CUS_PHONE VARCHAR(10),\n",
    "            CUS_CITY varchar(30),\n",
    "            CUS_GENDER CHAR,\n",
    "            PRIMARY KEY (CUS_ID)\n",
    "            )\n",
    "            \"\"\"\n",
    "cursorObject.execute(customer)"
   ]
  },
  {
   "cell_type": "code",
   "execution_count": null,
   "id": "58ebc8a9",
   "metadata": {},
   "outputs": [],
   "source": [
    "category = \"\"\"create Table category(\n",
    "            CAT_ID INT NOT NULL,\n",
    "            CAT_NAME VARCHAR(20) NULL DEFAULT NULL,\n",
    "            PRIMARY KEY (CAT_ID)\n",
    "            )\n",
    "            \"\"\"\n",
    "cursorObject.execute(category)"
   ]
  },
  {
   "cell_type": "code",
   "execution_count": null,
   "id": "3c83a426",
   "metadata": {},
   "outputs": [],
   "source": [
    "product = \"\"\"create Table product(\n",
    "            PRO_ID INT NOT NULL,\n",
    "            PRO_NAME VARCHAR(20) NULL DEFAULT NULL,\n",
    "            PRO_DESC VARCHAR(60) NULL DEFAULT NULL,\n",
    "            CAT_ID INT NOT NULL,\n",
    "            PRIMARY KEY (PRO_ID),\n",
    "            FOREIGN KEY (CAT_ID) REFERENCES CATEGORY (CAT_ID)\n",
    "            )\n",
    "            \"\"\"\n",
    "cursorObject.execute(product)"
   ]
  },
  {
   "cell_type": "code",
   "execution_count": null,
   "id": "b3eeb085",
   "metadata": {},
   "outputs": [],
   "source": [
    "product_details = \"\"\"create Table product_details(\n",
    "            PROD_ID INT NOT NULL,\n",
    "            PRO_ID INT NOT NULL,\n",
    "            SUPP_ID INT NOT NULL,\n",
    "            PROD_PRICE INT NOT NULL,\n",
    "            PRIMARY KEY (PROD_ID),\n",
    "            FOREIGN KEY (PRO_ID) REFERENCES PRODUCT (PRO_ID),\n",
    "            FOREIGN KEY (SUPP_ID) REFERENCES SUPPLIER(SUPP_ID)\n",
    "            )\n",
    "            \"\"\"\n",
    "cursorObject.execute(product_details)"
   ]
  },
  {
   "cell_type": "code",
   "execution_count": null,
   "id": "72ee65df",
   "metadata": {},
   "outputs": [],
   "source": [
    "order = \"\"\"create Table orders(\n",
    "            ORD_ID INT NOT NULL,\n",
    "            ORD_AMOUNT FLOAT NOT NULL,\n",
    "            ORD_DATE DATE,\n",
    "            CUS_ID INT NOT NULL,\n",
    "            PROD_ID INT NOT NULL,\n",
    "            PRIMARY KEY (ORD_ID),\n",
    "            FOREIGN KEY (CUS_ID) REFERENCES CUSTOMER(CUS_ID),\n",
    "            FOREIGN KEY (PROD_ID) REFERENCES PRODUCT_DETAILS(PROD_ID)\n",
    "            )\n",
    "            \"\"\"\n",
    "cursorObject.execute(order)"
   ]
  },
  {
   "cell_type": "code",
   "execution_count": null,
   "id": "2dfd2656",
   "metadata": {},
   "outputs": [],
   "source": [
    "rating = \"\"\"create Table rating(\n",
    "            RAT_ID INT NOT NULL,\n",
    "            CUS_ID INT NOT NULL,\n",
    "            SUPP_ID INT NOT NULL,\n",
    "            RAT_RATSTARS INT NOT NULL,\n",
    "            PRIMARY KEY (RAT_ID),\n",
    "            FOREIGN KEY (SUPP_ID) REFERENCES SUPPLIER (SUPP_ID),\n",
    "            FOREIGN KEY (CUS_ID) REFERENCES CUSTOMER(CUS_ID))\n",
    "            \"\"\"\n",
    "cursorObject.execute(rating)"
   ]
  },
  {
   "cell_type": "markdown",
   "id": "1f653731",
   "metadata": {
    "id": "1f653731"
   },
   "source": [
    "### Q2. Insert the following data in the table created above\n",
    "#### `Note:` If you are getting any error while inserting the data into tables, Kindly close the connection and reconnect\n",
    "\n",
    "#### Table:  supplier\n",
    "| SUPP_ID | SUPP_NAME | SUPP_CITY | SUPP_PHONE |\n",
    "| --- | --- | --- | --- | \n",
    "| 1 | Rajesh Retails | Delhi | 1234567890 |\n",
    "| 2 | Appario Ltd. | Mumbai | 258963147032 | \n",
    "| 3 | Knome products | Bangalore | 9785462315 |\n",
    "| 4 | Bansal Retails | Kochi | 8975463285 |\n",
    "| 5 | Mittal Ltd. | Lucknow | 7898456532 |"
   ]
  },
  {
   "cell_type": "code",
   "execution_count": null,
   "id": "f6dddd07",
   "metadata": {
    "id": "f6dddd07"
   },
   "outputs": [],
   "source": [
    "# insert into \"supplier\" table\n",
    "insert_supplier = \"Insert into supplier(SUPP_ID, SUPP_NAME, SUPP_CITY, SUPP_PHONE) VALUES (%s, %s, %s, %s)\"\n",
    "val = [(1, \"Rajesh Retails\", \"Delhi\",1234567890),\n",
    "       (2, \"Appario Ltd.\", \"Mumbai\",258963147),\n",
    "       (3, \"Knome products\", \"Bangalore\",9785462315),\n",
    "       (4, \"Bansal Retails\", \"Kochi\",8975463285),\n",
    "        (5, \"Mittal Ltd.\", \"Lucknow\",7898456532)]\n",
    "cursorObject.executemany(insert_supplier, val)\n",
    "connection.commit()"
   ]
  },
  {
   "cell_type": "markdown",
   "id": "e8a070a6",
   "metadata": {
    "id": "e8a070a6"
   },
   "source": [
    "#### Table:  customer\n",
    "| CUS_ID | CUS_NAME | SUPP_PHONE | CUS_CITY | CUS_GENDER\n",
    "| --- | --- | --- | --- | --- |\n",
    "| 1 | AAKASH | 9999999999 | DELHI | M |\n",
    "| 2 | AMAN | 9785463215 | NOIDA | M |\n",
    "| 3 | NEHA | 9999999998 | MUMBAI | F |\n",
    "| 4 | MEGHA | 9994562399 | KOLKATA | F |\n",
    "| 5 | PULKIT | 7895999999 | LUCKNOW | M |"
   ]
  },
  {
   "cell_type": "code",
   "execution_count": null,
   "id": "15a4ee87",
   "metadata": {
    "id": "15a4ee87"
   },
   "outputs": [],
   "source": [
    "# insert into \"customer\" table\n",
    "insert_customer = \"Insert into customer(CUS_ID, CUS_NAME, CUS_PHONE, CUS_CITY, CUS_GENDER) VALUES (%s, %s, %s, %s, %s)\"\n",
    "val = [(1, \"Aakash\", 9999999999,\"Delhi\", \"M\"),\n",
    "       (2, \"Aman\", 9285468565,\"Noida\",\"M\"),\n",
    "       (3, \"Neha\", 9564984655,\"Mumbai\", \"F\"),\n",
    "       (4, \"Megha\", 8975237285, \"Kolkata\",\"F\"),\n",
    "       (5, \"Pulkit\", 7898456532, \"Lucknow\",\"M\")]\n",
    "cursorObject.executemany(insert_customer, val)\n",
    "connection.commit()"
   ]
  },
  {
   "cell_type": "markdown",
   "id": "b68bfbc2",
   "metadata": {
    "id": "b68bfbc2"
   },
   "source": [
    "#### Table:  category\n",
    "| CAT_ID | CAT_NAME | \n",
    "| --- | --- |  \n",
    "| 1 | BOOKS |\n",
    "| 2 | GAMES |  \n",
    "| 3 | GROCERIES | \n",
    "| 4 | ELECTRONICS | \n",
    "| 5 | CLOTHES | "
   ]
  },
  {
   "cell_type": "code",
   "execution_count": null,
   "id": "05a00abc",
   "metadata": {
    "id": "05a00abc",
    "scrolled": false
   },
   "outputs": [],
   "source": [
    "# insert into \"categoty\" table\n",
    "insert_cat = \"insert into category (CAT_ID, CAT_NAME) values (%s, %s)\"\n",
    "val = [(1, \"Books\"),\n",
    "       (2, \"Games\"), \n",
    "       (3, \"Groceries\"),\n",
    "       (4, \"Electronics\"), \n",
    "       (5, \"Clothes\")]\n",
    "\n",
    "cursorObject.executemany(insert_cat,val)\n",
    "connection.commit()"
   ]
  },
  {
   "cell_type": "markdown",
   "id": "eb3bc592",
   "metadata": {
    "id": "eb3bc592"
   },
   "source": [
    "#### Table:  product\n",
    "| PRO_ID | PRO_NAME | PRO_DESC | CAT_ID |\n",
    "| --- | --- | --- | --- | \n",
    "| 1 | GTA V | DFJDJFDJFDJFDJFJF | 2 |\n",
    "| 2 | TSHIRT | DFDFJDFJDKFD | 5 | \n",
    "| 3 | ROG LAPTOP | DFNTTNTNTERND | 4 |\n",
    "| 4 | OATS | REURENTBTOTH | 3 |\n",
    "| 5 | HARRY POTTER | NBEMCTHTJTH | 1 |\n"
   ]
  },
  {
   "cell_type": "code",
   "execution_count": null,
   "id": "cdfbdfad",
   "metadata": {
    "id": "cdfbdfad"
   },
   "outputs": [],
   "source": [
    "# insert into \"product\" table\n",
    "insert_product = \"Insert into product(PRO_ID, PRO_NAME, PRO_DESC, CAT_ID) VALUES (%s, %s, %s, %s)\"\n",
    "val = [(1,\"GTA V\", \"DFJDJFDJFDJFDJFJF\",2),\n",
    "       (2, \"TShirt\", \"DFDFJDFJDKFD\",5),\n",
    "       (3, \"Rog Laptop\", \"DFNTTNTNTERND\", 4),\n",
    "       (4, \"OATS\", \"REURENTBTOTH\", 3),\n",
    "       (5,\"Harry Potter\", \"NBEMCTHTJTH\", 1)]\n",
    "\n",
    "cursorObject.executemany(insert_product, val)\n",
    "connection.commit()"
   ]
  },
  {
   "cell_type": "markdown",
   "id": "cfa8a47d",
   "metadata": {
    "id": "cfa8a47d"
   },
   "source": [
    "#### Table:  product_details\n",
    "| PROD_ID | PRO_ID | SUPP_ID | PROD_PRICE |\n",
    "| --- | --- | --- | --- | \n",
    "| 1 | 1 | 2 | 1500 |\n",
    "| 2 | 3 | 5 | 30000 | \n",
    "| 3 | 5 | 1 | 3000 |\n",
    "| 4 | 2 | 3 | 2500 |\n",
    "| 5 | 4 | 1 | 1000 |"
   ]
  },
  {
   "cell_type": "code",
   "execution_count": null,
   "id": "c18ea964",
   "metadata": {
    "id": "c18ea964"
   },
   "outputs": [],
   "source": [
    "# insert into \"product_details\" table\n",
    "insert_product_details = \"Insert into product_details(PROD_ID, PRO_ID, SUPP_ID, PROD_PRICE) VALUES (%s, %s, %s, %s)\"\n",
    "val = [(1, 1, 2, 1500),\n",
    "       (2, 3, 5, 30000),\n",
    "       (3, 5, 1, 3000),\n",
    "       (4, 2, 3, 2500),\n",
    "       (5, 4, 1, 1000)]\n",
    "\n",
    "cursorObject.executemany(insert_product_details, val)\n",
    "connection.commit()"
   ]
  },
  {
   "cell_type": "markdown",
   "id": "1df49086",
   "metadata": {
    "id": "1df49086"
   },
   "source": [
    "#### Table:  orders\n",
    "| ORD_ID | ORD_AMOUNT | ORD_DATE | CUS_ID | PROD_ID\n",
    "| --- | --- | --- | --- | --- |\n",
    "| 20 | 1500 | 2021-10-12 | 3 | 5 |\n",
    "| 25 | 30500 | 2021-09-16 | 5 | 2 |\n",
    "| 26 | 2000 | 2021-10-05 | 1 | 1 |\n",
    "| 30 | 3500 | 2021-08-16 | 4 | 3 |\n",
    "| 50 | 2000 | 2021-10-06 | 2 | 1 |"
   ]
  },
  {
   "cell_type": "code",
   "execution_count": null,
   "id": "0d97dc92",
   "metadata": {
    "id": "0d97dc92"
   },
   "outputs": [],
   "source": [
    "# insert into \"orders\" table\n",
    "insert_orders = \"Insert into orders(ORD_ID, ORD_AMOUNT, ORD_DATE, CUS_ID, PROD_ID) VALUES (%s, %s, %s, %s, %s)\"\n",
    "val = [(20, 1500, \"2021-10-12\", 3, 5),\n",
    "       (25, 30500, \"2021-09-16\", 5, 2),\n",
    "       (26, 2000, \"2021-10-05\", 1, 1),\n",
    "       (30, 3500, \"2021-08-16\", 4, 3),\n",
    "       (50, 2000, \"2021-10-06\", 2, 1)]\n",
    "\n",
    "cursorObject.executemany(insert_orders, val)\n",
    "connection.commit()"
   ]
  },
  {
   "cell_type": "markdown",
   "id": "75b8ce5f",
   "metadata": {
    "id": "75b8ce5f"
   },
   "source": [
    "#### Table: rating\n",
    "| RAT_ID | CUS_ID | SUPP_ID | RAT_RATSTARS |\n",
    "| --- | --- | --- | --- | \n",
    "| 1 | 2 | 2 | 4 |\n",
    "| 2 | 3 | 4 | 3 | \n",
    "| 3 | 5 | 1 | 5 |\n",
    "| 4 | 1 | 3 | 2 |\n",
    "| 5 | 4 | 5 | 4 |"
   ]
  },
  {
   "cell_type": "code",
   "execution_count": null,
   "id": "6d5f1e18",
   "metadata": {
    "id": "6d5f1e18"
   },
   "outputs": [],
   "source": [
    "# insert into \"rating\" table\n",
    "insert_rating = \"Insert into rating(RAT_ID, CUS_ID, SUPP_ID, RAT_RATSTARS) VALUES (%s, %s, %s, %s)\"\n",
    "val = [(1, 2, 2, 4),\n",
    "       (2, 3, 4, 3),\n",
    "       (3, 5, 1, 5),\n",
    "       (4, 1, 3, 2),\n",
    "       (5, 4, 5, 4)]\n",
    "\n",
    "cursorObject.executemany(insert_rating, val)\n",
    "connection.commit()"
   ]
  },
  {
   "cell_type": "markdown",
   "id": "b59361c3",
   "metadata": {
    "id": "b59361c3"
   },
   "source": [
    "### Q3) Display the number of the customer group by their genders who have placed any order of amount greater than or equal to Rs.3000."
   ]
  },
  {
   "cell_type": "code",
   "execution_count": 3,
   "id": "fcafaf3c",
   "metadata": {
    "id": "fcafaf3c"
   },
   "outputs": [
    {
     "data": {
      "text/html": [
       "<div>\n",
       "<style scoped>\n",
       "    .dataframe tbody tr th:only-of-type {\n",
       "        vertical-align: middle;\n",
       "    }\n",
       "\n",
       "    .dataframe tbody tr th {\n",
       "        vertical-align: top;\n",
       "    }\n",
       "\n",
       "    .dataframe thead th {\n",
       "        text-align: right;\n",
       "    }\n",
       "</style>\n",
       "<table border=\"1\" class=\"dataframe\">\n",
       "  <thead>\n",
       "    <tr style=\"text-align: right;\">\n",
       "      <th></th>\n",
       "      <th>GENDER</th>\n",
       "      <th>COUNT</th>\n",
       "    </tr>\n",
       "  </thead>\n",
       "  <tbody>\n",
       "    <tr>\n",
       "      <th>0</th>\n",
       "      <td>M</td>\n",
       "      <td>1</td>\n",
       "    </tr>\n",
       "    <tr>\n",
       "      <th>1</th>\n",
       "      <td>F</td>\n",
       "      <td>1</td>\n",
       "    </tr>\n",
       "  </tbody>\n",
       "</table>\n",
       "</div>"
      ],
      "text/plain": [
       "  GENDER  COUNT\n",
       "0      M      1\n",
       "1      F      1"
      ]
     },
     "execution_count": 3,
     "metadata": {},
     "output_type": "execute_result"
    }
   ],
   "source": [
    "select_query = \"\"\"\n",
    "SELECT customer.CUS_GENDER, count(customer.CUS_GENDER) as Gender_Count from customer\n",
    "INNER JOIN orders \n",
    "ON customer.CUS_ID = orders.CUS_ID\n",
    "WHERE orders.ORD_AMOUNT >=3000\n",
    "GROUP BY customer.CUS_GENDER                \n",
    "\"\"\"\n",
    "cursorObject.execute(select_query)\n",
    "output = cursorObject.fetchall()\n",
    "output_df = pd.DataFrame(output, columns = ['GENDER', 'COUNT'])\n",
    "output_df"
   ]
  },
  {
   "cell_type": "markdown",
   "id": "e49e04f5",
   "metadata": {
    "id": "e49e04f5"
   },
   "source": [
    "### Q4) Display all the order along with product name ordered by a customer having Customer_Id=2;"
   ]
  },
  {
   "cell_type": "code",
   "execution_count": 4,
   "id": "9dcb7883",
   "metadata": {
    "id": "9dcb7883"
   },
   "outputs": [
    {
     "data": {
      "text/html": [
       "<div>\n",
       "<style scoped>\n",
       "    .dataframe tbody tr th:only-of-type {\n",
       "        vertical-align: middle;\n",
       "    }\n",
       "\n",
       "    .dataframe tbody tr th {\n",
       "        vertical-align: top;\n",
       "    }\n",
       "\n",
       "    .dataframe thead th {\n",
       "        text-align: right;\n",
       "    }\n",
       "</style>\n",
       "<table border=\"1\" class=\"dataframe\">\n",
       "  <thead>\n",
       "    <tr style=\"text-align: right;\">\n",
       "      <th></th>\n",
       "      <th>Customer_Id</th>\n",
       "      <th>Order_Date</th>\n",
       "      <th>Order_Amount</th>\n",
       "      <th>Product_Name</th>\n",
       "    </tr>\n",
       "  </thead>\n",
       "  <tbody>\n",
       "    <tr>\n",
       "      <th>0</th>\n",
       "      <td>2</td>\n",
       "      <td>2021-10-06</td>\n",
       "      <td>2000.0</td>\n",
       "      <td>GTA V</td>\n",
       "    </tr>\n",
       "  </tbody>\n",
       "</table>\n",
       "</div>"
      ],
      "text/plain": [
       "   Customer_Id  Order_Date  Order_Amount Product_Name\n",
       "0            2  2021-10-06        2000.0        GTA V"
      ]
     },
     "execution_count": 4,
     "metadata": {},
     "output_type": "execute_result"
    }
   ],
   "source": [
    "select_query = \"\"\"\n",
    "SELECT orders.CUS_ID, orders.ORD_DATE, orders.ORD_AMOUNT, product.PRO_NAME from orders\n",
    "INNER JOIN product\n",
    "ON orders.PROD_ID = product.PRO_ID\n",
    "WHERE orders.CUS_ID=2\n",
    "\"\"\"\n",
    "cursorObject.execute(select_query)\n",
    "output = cursorObject.fetchall()\n",
    "#print(output)\n",
    "output_df = pd.DataFrame(output, columns = ['Customer_Id', 'Order_Date', 'Order_Amount', 'Product_Name'])\n",
    "output_df"
   ]
  },
  {
   "cell_type": "markdown",
   "id": "3a33398e",
   "metadata": {
    "id": "3a33398e"
   },
   "source": [
    "### Q5) Display the Supplier details who can supply more than one product."
   ]
  },
  {
   "cell_type": "code",
   "execution_count": 5,
   "id": "e933b979",
   "metadata": {
    "id": "e933b979"
   },
   "outputs": [
    {
     "data": {
      "text/html": [
       "<div>\n",
       "<style scoped>\n",
       "    .dataframe tbody tr th:only-of-type {\n",
       "        vertical-align: middle;\n",
       "    }\n",
       "\n",
       "    .dataframe tbody tr th {\n",
       "        vertical-align: top;\n",
       "    }\n",
       "\n",
       "    .dataframe thead th {\n",
       "        text-align: right;\n",
       "    }\n",
       "</style>\n",
       "<table border=\"1\" class=\"dataframe\">\n",
       "  <thead>\n",
       "    <tr style=\"text-align: right;\">\n",
       "      <th></th>\n",
       "      <th>Supplier_Id</th>\n",
       "      <th>Name</th>\n",
       "      <th>City</th>\n",
       "      <th>Contact</th>\n",
       "    </tr>\n",
       "  </thead>\n",
       "  <tbody>\n",
       "    <tr>\n",
       "      <th>0</th>\n",
       "      <td>1</td>\n",
       "      <td>Rajesh Retails</td>\n",
       "      <td>Delhi</td>\n",
       "      <td>1234567890</td>\n",
       "    </tr>\n",
       "  </tbody>\n",
       "</table>\n",
       "</div>"
      ],
      "text/plain": [
       "   Supplier_Id            Name   City     Contact\n",
       "0            1  Rajesh Retails  Delhi  1234567890"
      ]
     },
     "execution_count": 5,
     "metadata": {},
     "output_type": "execute_result"
    }
   ],
   "source": [
    "select_query = \"\"\"\n",
    "SELECT supplier.* from supplier\n",
    "WHERE supplier.SUPP_ID\n",
    "IN (SELECT product_details.SUPP_ID\n",
    "FROM product_details\n",
    "GROUP BY product_details.SUPP_ID\n",
    "HAVING COUNT(product_details.SUPP_ID) > 1)\n",
    "\"\"\"\n",
    "cursorObject.execute(select_query)\n",
    "output = cursorObject.fetchall()\n",
    "#print(output)\n",
    "output_df = pd.DataFrame(output, columns = ['Supplier_Id', 'Name', 'City', 'Contact'])\n",
    "output_df"
   ]
  },
  {
   "cell_type": "markdown",
   "id": "5fd319ef",
   "metadata": {
    "id": "5fd319ef"
   },
   "source": [
    "### Q6) Find the category of the product whose order amount is minimum."
   ]
  },
  {
   "cell_type": "code",
   "execution_count": 60,
   "id": "06f5cb51",
   "metadata": {
    "id": "06f5cb51"
   },
   "outputs": [
    {
     "data": {
      "text/html": [
       "<div>\n",
       "<style scoped>\n",
       "    .dataframe tbody tr th:only-of-type {\n",
       "        vertical-align: middle;\n",
       "    }\n",
       "\n",
       "    .dataframe tbody tr th {\n",
       "        vertical-align: top;\n",
       "    }\n",
       "\n",
       "    .dataframe thead th {\n",
       "        text-align: right;\n",
       "    }\n",
       "</style>\n",
       "<table border=\"1\" class=\"dataframe\">\n",
       "  <thead>\n",
       "    <tr style=\"text-align: right;\">\n",
       "      <th></th>\n",
       "      <th>Category_Id</th>\n",
       "      <th>Category_Name</th>\n",
       "      <th>Order_Amount</th>\n",
       "    </tr>\n",
       "  </thead>\n",
       "  <tbody>\n",
       "    <tr>\n",
       "      <th>0</th>\n",
       "      <td>1</td>\n",
       "      <td>Books</td>\n",
       "      <td>1500.0</td>\n",
       "    </tr>\n",
       "  </tbody>\n",
       "</table>\n",
       "</div>"
      ],
      "text/plain": [
       "   Category_Id Category_Name  Order_Amount\n",
       "0            1         Books        1500.0"
      ]
     },
     "execution_count": 60,
     "metadata": {},
     "output_type": "execute_result"
    }
   ],
   "source": [
    "#product,orders and product and category \n",
    "select_query6 = \"\"\"select category.*, orders.ORD_AMOUNT\n",
    "FROM category INNER JOIN product\n",
    "ON category.CAT_ID=product.CAT_ID\n",
    "INNER JOIN product_details\n",
    "ON product_details.PROD_ID=product.PRO_ID\n",
    "INNER JOIN orders\n",
    "ON orders.PROD_ID=product.PRO_ID\n",
    "WHERE orders.ORD_AMOUNT IN (SELECT MIN(orders.ORD_AMOUNT) FROM orders)\n",
    "\"\"\"\n",
    "cursorObject.execute(select_query6)\n",
    "output = cursorObject.fetchall()\n",
    "#print(output)\n",
    "output_df = pd.DataFrame(output, columns = ['Category_Id', 'Category_Name', 'Order_Amount'])\n",
    "output_df"
   ]
  },
  {
   "cell_type": "markdown",
   "id": "107102d4",
   "metadata": {
    "id": "107102d4"
   },
   "source": [
    "### Q7) Display the Id and Name of the Product ordered after “2021-10-05”."
   ]
  },
  {
   "cell_type": "code",
   "execution_count": 15,
   "id": "5d3fc7e8",
   "metadata": {
    "id": "5d3fc7e8"
   },
   "outputs": [
    {
     "data": {
      "text/html": [
       "<div>\n",
       "<style scoped>\n",
       "    .dataframe tbody tr th:only-of-type {\n",
       "        vertical-align: middle;\n",
       "    }\n",
       "\n",
       "    .dataframe tbody tr th {\n",
       "        vertical-align: top;\n",
       "    }\n",
       "\n",
       "    .dataframe thead th {\n",
       "        text-align: right;\n",
       "    }\n",
       "</style>\n",
       "<table border=\"1\" class=\"dataframe\">\n",
       "  <thead>\n",
       "    <tr style=\"text-align: right;\">\n",
       "      <th></th>\n",
       "      <th>Product_Id</th>\n",
       "      <th>Product_Name</th>\n",
       "    </tr>\n",
       "  </thead>\n",
       "  <tbody>\n",
       "    <tr>\n",
       "      <th>0</th>\n",
       "      <td>5</td>\n",
       "      <td>Harry Potter</td>\n",
       "    </tr>\n",
       "    <tr>\n",
       "      <th>1</th>\n",
       "      <td>1</td>\n",
       "      <td>GTA V</td>\n",
       "    </tr>\n",
       "  </tbody>\n",
       "</table>\n",
       "</div>"
      ],
      "text/plain": [
       "   Product_Id  Product_Name\n",
       "0           5  Harry Potter\n",
       "1           1         GTA V"
      ]
     },
     "execution_count": 15,
     "metadata": {},
     "output_type": "execute_result"
    }
   ],
   "source": [
    "select_query7 = \"\"\"SELECT product.PRO_ID, product.PRO_NAME\n",
    "FROM product \n",
    "INNER JOIN orders\n",
    "ON orders.PROD_ID=product.PRO_ID\n",
    "WHERE orders.ORD_DATE >= \"2021-10-05\"\n",
    "GROUP BY product.PRO_ID\n",
    "\"\"\"\n",
    "cursorObject.execute(select_query7)\n",
    "output = cursorObject.fetchall()\n",
    "#print(output)\n",
    "output_df = pd.DataFrame(output, columns = ['Product_Id', 'Product_Name'])\n",
    "output_df"
   ]
  },
  {
   "cell_type": "markdown",
   "id": "bdce7167",
   "metadata": {
    "id": "bdce7167"
   },
   "source": [
    "### Q8) Print the top 3 supplier name and id and rating on the basis of their rating along with the customer name who has given the rating."
   ]
  },
  {
   "cell_type": "code",
   "execution_count": 46,
   "id": "fa0cbe44",
   "metadata": {
    "id": "fa0cbe44"
   },
   "outputs": [
    {
     "data": {
      "text/html": [
       "<div>\n",
       "<style scoped>\n",
       "    .dataframe tbody tr th:only-of-type {\n",
       "        vertical-align: middle;\n",
       "    }\n",
       "\n",
       "    .dataframe tbody tr th {\n",
       "        vertical-align: top;\n",
       "    }\n",
       "\n",
       "    .dataframe thead th {\n",
       "        text-align: right;\n",
       "    }\n",
       "</style>\n",
       "<table border=\"1\" class=\"dataframe\">\n",
       "  <thead>\n",
       "    <tr style=\"text-align: right;\">\n",
       "      <th></th>\n",
       "      <th>Supplier_Id</th>\n",
       "      <th>Supplier_Name</th>\n",
       "      <th>Customer_Name</th>\n",
       "      <th>Rating</th>\n",
       "    </tr>\n",
       "  </thead>\n",
       "  <tbody>\n",
       "    <tr>\n",
       "      <th>0</th>\n",
       "      <td>1</td>\n",
       "      <td>Rajesh Retails</td>\n",
       "      <td>Pulkit</td>\n",
       "      <td>5</td>\n",
       "    </tr>\n",
       "    <tr>\n",
       "      <th>1</th>\n",
       "      <td>2</td>\n",
       "      <td>Appario Ltd.</td>\n",
       "      <td>Aman</td>\n",
       "      <td>4</td>\n",
       "    </tr>\n",
       "    <tr>\n",
       "      <th>2</th>\n",
       "      <td>5</td>\n",
       "      <td>Mittal Ltd.</td>\n",
       "      <td>Megha</td>\n",
       "      <td>4</td>\n",
       "    </tr>\n",
       "  </tbody>\n",
       "</table>\n",
       "</div>"
      ],
      "text/plain": [
       "   Supplier_Id   Supplier_Name Customer_Name  Rating\n",
       "0            1  Rajesh Retails        Pulkit       5\n",
       "1            2    Appario Ltd.          Aman       4\n",
       "2            5     Mittal Ltd.         Megha       4"
      ]
     },
     "execution_count": 46,
     "metadata": {},
     "output_type": "execute_result"
    }
   ],
   "source": [
    "select_query8 = \"\"\"SELECT supplier.SUPP_ID, supplier.SUPP_NAME, customer.CUS_NAME, rating.RAT_RATSTARS\n",
    "FROM supplier \n",
    "INNER JOIN rating\n",
    "ON supplier.SUPP_ID=rating.SUPP_ID\n",
    "INNER JOIN customer\n",
    "ON customer.CUS_ID=rating.CUS_ID\n",
    "ORDER BY rating.RAT_RATSTARS desc limit 3\n",
    "\"\"\"\n",
    "cursorObject.execute(select_query8)\n",
    "output = cursorObject.fetchall()\n",
    "#print(output)\n",
    "output_df = pd.DataFrame(output, columns = ['Supplier_Id', 'Supplier_Name', 'Customer_Name', 'Rating'])\n",
    "output_df"
   ]
  },
  {
   "cell_type": "markdown",
   "id": "346ec2a1",
   "metadata": {
    "id": "346ec2a1"
   },
   "source": [
    "### Q9) Display customer name and gender whose names start or end with character 'A'."
   ]
  },
  {
   "cell_type": "code",
   "execution_count": 50,
   "id": "e571b5fd",
   "metadata": {
    "id": "e571b5fd"
   },
   "outputs": [
    {
     "data": {
      "text/html": [
       "<div>\n",
       "<style scoped>\n",
       "    .dataframe tbody tr th:only-of-type {\n",
       "        vertical-align: middle;\n",
       "    }\n",
       "\n",
       "    .dataframe tbody tr th {\n",
       "        vertical-align: top;\n",
       "    }\n",
       "\n",
       "    .dataframe thead th {\n",
       "        text-align: right;\n",
       "    }\n",
       "</style>\n",
       "<table border=\"1\" class=\"dataframe\">\n",
       "  <thead>\n",
       "    <tr style=\"text-align: right;\">\n",
       "      <th></th>\n",
       "      <th>Name</th>\n",
       "      <th>Gender</th>\n",
       "    </tr>\n",
       "  </thead>\n",
       "  <tbody>\n",
       "    <tr>\n",
       "      <th>0</th>\n",
       "      <td>Aakash</td>\n",
       "      <td>M</td>\n",
       "    </tr>\n",
       "    <tr>\n",
       "      <th>1</th>\n",
       "      <td>Aman</td>\n",
       "      <td>M</td>\n",
       "    </tr>\n",
       "    <tr>\n",
       "      <th>2</th>\n",
       "      <td>Neha</td>\n",
       "      <td>F</td>\n",
       "    </tr>\n",
       "    <tr>\n",
       "      <th>3</th>\n",
       "      <td>Megha</td>\n",
       "      <td>F</td>\n",
       "    </tr>\n",
       "  </tbody>\n",
       "</table>\n",
       "</div>"
      ],
      "text/plain": [
       "     Name Gender\n",
       "0  Aakash      M\n",
       "1    Aman      M\n",
       "2    Neha      F\n",
       "3   Megha      F"
      ]
     },
     "execution_count": 50,
     "metadata": {},
     "output_type": "execute_result"
    }
   ],
   "source": [
    "select_query9 = \"\"\"SELECT customer.CUS_NAME, customer.CUS_GENDER\n",
    "FROM customer \n",
    "WHERE customer.CUS_NAME like 'A%' OR customer.CUS_NAME like '%A'\n",
    "\"\"\"\n",
    "cursorObject.execute(select_query9)\n",
    "output = cursorObject.fetchall()\n",
    "#print(output)\n",
    "output_df = pd.DataFrame(output, columns = ['Name', 'Gender'])\n",
    "output_df"
   ]
  },
  {
   "cell_type": "markdown",
   "id": "d0b01f77",
   "metadata": {
    "id": "d0b01f77"
   },
   "source": [
    "### Q10) Display the total order amount of the male customers."
   ]
  },
  {
   "cell_type": "code",
   "execution_count": 53,
   "id": "c3fa76e3",
   "metadata": {
    "id": "c3fa76e3"
   },
   "outputs": [
    {
     "data": {
      "text/html": [
       "<div>\n",
       "<style scoped>\n",
       "    .dataframe tbody tr th:only-of-type {\n",
       "        vertical-align: middle;\n",
       "    }\n",
       "\n",
       "    .dataframe tbody tr th {\n",
       "        vertical-align: top;\n",
       "    }\n",
       "\n",
       "    .dataframe thead th {\n",
       "        text-align: right;\n",
       "    }\n",
       "</style>\n",
       "<table border=\"1\" class=\"dataframe\">\n",
       "  <thead>\n",
       "    <tr style=\"text-align: right;\">\n",
       "      <th></th>\n",
       "      <th>Total Order Amount Of Male Customers</th>\n",
       "    </tr>\n",
       "  </thead>\n",
       "  <tbody>\n",
       "    <tr>\n",
       "      <th>0</th>\n",
       "      <td>34500.0</td>\n",
       "    </tr>\n",
       "  </tbody>\n",
       "</table>\n",
       "</div>"
      ],
      "text/plain": [
       "   Total Order Amount Of Male Customers\n",
       "0                               34500.0"
      ]
     },
     "execution_count": 53,
     "metadata": {},
     "output_type": "execute_result"
    }
   ],
   "source": [
    "select_query10 = \"\"\"SELECT SUM(orders.ORD_AMOUNT)\n",
    "FROM orders\n",
    "INNER JOIN customer\n",
    "ON customer.CUS_ID=orders.CUS_ID\n",
    "WHERE customer.CUS_GENDER='M';\n",
    "\"\"\"\n",
    "cursorObject.execute(select_query10)\n",
    "output = cursorObject.fetchall()\n",
    "#print(output)\n",
    "output_df = pd.DataFrame(output, columns = ['Total Order Amount Of Male Customers'])\n",
    "output_df"
   ]
  },
  {
   "cell_type": "markdown",
   "id": "ff8a9971",
   "metadata": {
    "id": "ff8a9971"
   },
   "source": [
    "### Q11) Display all the Customers left outer join with  the orders"
   ]
  },
  {
   "cell_type": "code",
   "execution_count": 55,
   "id": "a340c6d6",
   "metadata": {
    "id": "a340c6d6"
   },
   "outputs": [
    {
     "data": {
      "text/html": [
       "<div>\n",
       "<style scoped>\n",
       "    .dataframe tbody tr th:only-of-type {\n",
       "        vertical-align: middle;\n",
       "    }\n",
       "\n",
       "    .dataframe tbody tr th {\n",
       "        vertical-align: top;\n",
       "    }\n",
       "\n",
       "    .dataframe thead th {\n",
       "        text-align: right;\n",
       "    }\n",
       "</style>\n",
       "<table border=\"1\" class=\"dataframe\">\n",
       "  <thead>\n",
       "    <tr style=\"text-align: right;\">\n",
       "      <th></th>\n",
       "      <th>ID</th>\n",
       "      <th>Name</th>\n",
       "      <th>Phone</th>\n",
       "      <th>City</th>\n",
       "      <th>Gender</th>\n",
       "    </tr>\n",
       "  </thead>\n",
       "  <tbody>\n",
       "    <tr>\n",
       "      <th>0</th>\n",
       "      <td>1</td>\n",
       "      <td>Aakash</td>\n",
       "      <td>9999999999</td>\n",
       "      <td>Delhi</td>\n",
       "      <td>M</td>\n",
       "    </tr>\n",
       "    <tr>\n",
       "      <th>1</th>\n",
       "      <td>2</td>\n",
       "      <td>Aman</td>\n",
       "      <td>9285468565</td>\n",
       "      <td>Noida</td>\n",
       "      <td>M</td>\n",
       "    </tr>\n",
       "    <tr>\n",
       "      <th>2</th>\n",
       "      <td>3</td>\n",
       "      <td>Neha</td>\n",
       "      <td>9564984655</td>\n",
       "      <td>Mumbai</td>\n",
       "      <td>F</td>\n",
       "    </tr>\n",
       "    <tr>\n",
       "      <th>3</th>\n",
       "      <td>4</td>\n",
       "      <td>Megha</td>\n",
       "      <td>8975237285</td>\n",
       "      <td>Kolkata</td>\n",
       "      <td>F</td>\n",
       "    </tr>\n",
       "    <tr>\n",
       "      <th>4</th>\n",
       "      <td>5</td>\n",
       "      <td>Pulkit</td>\n",
       "      <td>7898456532</td>\n",
       "      <td>Lucknow</td>\n",
       "      <td>M</td>\n",
       "    </tr>\n",
       "  </tbody>\n",
       "</table>\n",
       "</div>"
      ],
      "text/plain": [
       "   ID    Name       Phone     City Gender\n",
       "0   1  Aakash  9999999999    Delhi      M\n",
       "1   2    Aman  9285468565    Noida      M\n",
       "2   3    Neha  9564984655   Mumbai      F\n",
       "3   4   Megha  8975237285  Kolkata      F\n",
       "4   5  Pulkit  7898456532  Lucknow      M"
      ]
     },
     "execution_count": 55,
     "metadata": {},
     "output_type": "execute_result"
    }
   ],
   "source": [
    "select_query11 = \"\"\"SELECT customer.*\n",
    "FROM customer\n",
    "LEFT JOIN orders\n",
    "ON orders.CUS_ID=customer.CUS_ID\n",
    "\"\"\"\n",
    "cursorObject.execute(select_query11)\n",
    "output = cursorObject.fetchall()\n",
    "#print(output)\n",
    "output_df = pd.DataFrame(output, columns = ['ID', 'Name', 'Phone', 'City', 'Gender'])\n",
    "output_df"
   ]
  },
  {
   "cell_type": "code",
   "execution_count": 61,
   "id": "b6c34f90",
   "metadata": {},
   "outputs": [],
   "source": [
    "connection.close()"
   ]
  },
  {
   "cell_type": "markdown",
   "id": "0a72afe3",
   "metadata": {
    "id": "0a72afe3"
   },
   "source": [
    "**NOTE:** Always close an open connection once you are done with the database operations"
   ]
  },
  {
   "cell_type": "markdown",
   "id": "8c88f479",
   "metadata": {
    "id": "8c88f479"
   },
   "source": [
    "## Happy Learning:)"
   ]
  }
 ],
 "metadata": {
  "colab": {
   "name": "Lab Session  -  E-Commerce.ipynb",
   "provenance": []
  },
  "kernelspec": {
   "display_name": "Python 3 (ipykernel)",
   "language": "python",
   "name": "python3"
  },
  "language_info": {
   "codemirror_mode": {
    "name": "ipython",
    "version": 3
   },
   "file_extension": ".py",
   "mimetype": "text/x-python",
   "name": "python",
   "nbconvert_exporter": "python",
   "pygments_lexer": "ipython3",
   "version": "3.10.9"
  }
 },
 "nbformat": 4,
 "nbformat_minor": 5
}
